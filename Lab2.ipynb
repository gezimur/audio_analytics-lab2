{
 "cells": [
  {
   "cell_type": "code",
   "execution_count": 1,
   "id": "583001f4",
   "metadata": {},
   "outputs": [],
   "source": [
    "import numpy as np\n",
    "import pandas as pd\n",
    "import IPython.display as ipd\n",
    "import matplotlib.pyplot as plt\n",
    "\n",
    "import scipy \n",
    "import scipy.fft\n",
    "\n",
    "import librosa\n",
    "import librosa.display\n",
    "import librosa.filters\n",
    "import librosa.feature\n",
    "\n",
    "import os\n",
    "import sklearn\n",
    "\n",
    "import pickle\n",
    "\n",
    "%matplotlib inline"
   ]
  },
  {
   "cell_type": "markdown",
   "id": "2a6b000a",
   "metadata": {},
   "source": [
    "## Загружаю расчитанные фичи и словарь меток."
   ]
  },
  {
   "cell_type": "code",
   "execution_count": 2,
   "id": "45af9ee2",
   "metadata": {},
   "outputs": [],
   "source": [
    "def pkl_load(file):\n",
    "    return pickle.load(open(file,'rb'))"
   ]
  },
  {
   "cell_type": "code",
   "execution_count": 3,
   "id": "93046fc7",
   "metadata": {},
   "outputs": [],
   "source": [
    "from sklearn.model_selection import train_test_split\n",
    "\n",
    "data = pd.DataFrame(pkl_load('../audioset/Processed/features.pkl'))\n",
    "actual_dict = pkl_load('../audioset/Processed/actual_dict.pkl')"
   ]
  },
  {
   "cell_type": "markdown",
   "id": "3635b8fd",
   "metadata": {},
   "source": [
    "## Разбиваю на тренировачную тестовую выборки."
   ]
  },
  {
   "cell_type": "code",
   "execution_count": 4,
   "id": "2ce7500b",
   "metadata": {},
   "outputs": [
    {
     "data": {
      "text/plain": [
       "(83137,)"
      ]
     },
     "execution_count": 4,
     "metadata": {},
     "output_type": "execute_result"
    }
   ],
   "source": [
    "x_train, x_test, y_train, y_test = train_test_split(data['features'].values, data['label'].values, test_size=0.25)\n",
    "np.asarray(x_test).shape"
   ]
  },
  {
   "cell_type": "markdown",
   "id": "4e20cb82",
   "metadata": {},
   "source": [
    "## Код для обучения Random forest\n",
    "\n",
    "* Создание классификатора с задаными параметрами (кол-во деревьев, глубина деревьев).\n",
    "* Перераспределение данных для использования на эпохах обучения.\n",
    "* Обучение (заполнение модели, определение промежуточного результата)."
   ]
  },
  {
   "cell_type": "code",
   "execution_count": 19,
   "id": "78c65d68",
   "metadata": {},
   "outputs": [],
   "source": [
    "from sklearn import metrics\n",
    "from sklearn.model_selection import KFold\n",
    "from sklearn.ensemble import RandomForestClassifier\n",
    "\n",
    "def make_training_model(x, y, epoch_cnt, n_estimators, forest_depth):\n",
    "    classifier = RandomForestClassifier(n_estimators=n_estimators, max_depth=forest_depth, n_jobs=-1)\n",
    "    \n",
    "    Selector = KFold(n_splits=epoch_cnt, random_state=None, shuffle=False)\n",
    "    \n",
    "    print('\\n\\n', classifier)\n",
    "    \n",
    "    Number = 0\n",
    "    for train_index, test_index in Selector.split(X=x, y=y):   \n",
    "        Number += 1\n",
    "\n",
    "        x_train, x_test = x[train_index], x[test_index]\n",
    "        y_train, y_test = y[train_index], y[test_index]\n",
    "        \n",
    "        classifier.fit(x_train.tolist(), y_train.tolist())\n",
    "        print('\\nBlock', Number, ' score:', metrics.f1_score(y_test.tolist(), classifier.predict(x_test.tolist()), average='micro'))\n",
    "        \n",
    "    return classifier"
   ]
  },
  {
   "cell_type": "markdown",
   "id": "24c1369b",
   "metadata": {},
   "source": [
    "Первый эксперимент. Попробовал взять кол-во деревьев равное кол-ву меток. И небольшую глубину деревьев."
   ]
  },
  {
   "cell_type": "code",
   "execution_count": 20,
   "id": "5453c809",
   "metadata": {},
   "outputs": [
    {
     "name": "stdout",
     "output_type": "stream",
     "text": [
      "\n",
      "\n",
      " RandomForestClassifier(max_depth=4, n_estimators=61, n_jobs=-1)\n",
      "\n",
      "Block 1  score: 0.2694701052091352\n",
      "\n",
      "Block 2  score: 0.2659096741082884\n",
      "\n",
      "Block 3  score: 0.2687002822684116\n",
      "\n",
      "Block 4  score: 0.2653643828586092\n",
      "\n",
      "Block 5  score: 0.2679946112394149\n",
      "\n",
      "Block 6  score: 0.2583718244803695\n",
      "\n",
      "Block 7  score: 0.2691172696946369\n",
      "\n",
      "Block 8  score: 0.2627662304336669\n",
      "\n",
      "Result score: 0.264515197806031\n"
     ]
    }
   ],
   "source": [
    "classifier = make_training_model(x_train, y_train, epoch_cnt=8, n_estimators=len(actual_dict), forest_depth=4)\n",
    "first_score = metrics.f1_score(y_test.tolist(), classifier.predict(x_test.tolist()), average='micro')\n",
    "print('\\nResult score:', first_score)"
   ]
  },
  {
   "cell_type": "markdown",
   "id": "5317a5fc",
   "metadata": {},
   "source": [
    "Увеличиваю глубину деревьев -> результаты улучшаются"
   ]
  },
  {
   "cell_type": "code",
   "execution_count": 21,
   "id": "1fc7f0d5",
   "metadata": {},
   "outputs": [
    {
     "name": "stdout",
     "output_type": "stream",
     "text": [
      "\n",
      "\n",
      " RandomForestClassifier(max_depth=6, n_estimators=61, n_jobs=-1)\n",
      "\n",
      "Block 1  score: 0.27133051064921737\n",
      "\n",
      "Block 2  score: 0.26748139594559917\n",
      "\n",
      "Block 3  score: 0.27062483962022066\n",
      "\n",
      "Block 4  score: 0.26728894021041827\n",
      "\n",
      "Block 5  score: 0.2703361560174493\n",
      "\n",
      "Block 6  score: 0.26023222992045164\n",
      "\n",
      "Block 7  score: 0.2712663587374904\n",
      "\n",
      "Block 8  score: 0.26398511675647934\n",
      "\n",
      "Result score: 0.26623525024958805\n"
     ]
    }
   ],
   "source": [
    "classifier = make_training_model(x_train, y_train, epoch_cnt=8, n_estimators=len(actual_dict), forest_depth=6)\n",
    "print('\\nResult score:', metrics.f1_score(y_test.tolist(), classifier.predict(x_test.tolist()), average='micro'))"
   ]
  },
  {
   "cell_type": "markdown",
   "id": "76a0d1f8",
   "metadata": {},
   "source": [
    "Немного увеличиваю глубину и значительно кол-во деревьев. -> результаты меняются не сильно."
   ]
  },
  {
   "cell_type": "code",
   "execution_count": 22,
   "id": "85b603dd",
   "metadata": {},
   "outputs": [
    {
     "name": "stdout",
     "output_type": "stream",
     "text": [
      "\n",
      "\n",
      " RandomForestClassifier(max_depth=10, n_estimators=244, n_jobs=-1)\n",
      "\n",
      "Block 1  score: 0.29606107261996406\n",
      "\n",
      "Block 2  score: 0.29548370541442137\n",
      "\n",
      "Block 3  score: 0.2953874775468309\n",
      "\n",
      "Block 4  score: 0.2943289710033359\n",
      "\n",
      "Block 5  score: 0.29673466769309725\n",
      "\n",
      "Block 6  score: 0.28640620990505516\n",
      "\n",
      "Block 7  score: 0.2997818835001283\n",
      "\n",
      "Block 8  score: 0.2899345650500385\n",
      "\n",
      "Result score: 0.29332306915091955\n"
     ]
    }
   ],
   "source": [
    "classifier = make_training_model(x_train, y_train, epoch_cnt=8, n_estimators=len(actual_dict)*4, forest_depth=10)\n",
    "print('\\nResult score:', metrics.f1_score(y_test.tolist(), classifier.predict(x_test.tolist()), average='micro'))"
   ]
  },
  {
   "cell_type": "markdown",
   "id": "20ee4e97",
   "metadata": {},
   "source": [
    "Так как увеличение кол-ва деревьев ни к чему не привело. Пробую увеличить глубину -> результаты заметно лучше."
   ]
  },
  {
   "cell_type": "code",
   "execution_count": 23,
   "id": "6c12a16c",
   "metadata": {},
   "outputs": [
    {
     "name": "stdout",
     "output_type": "stream",
     "text": [
      "\n",
      "\n",
      " RandomForestClassifier(max_depth=16, n_estimators=61, n_jobs=-1)\n",
      "\n",
      "Block 1  score: 0.3722735437516038\n",
      "\n",
      "Block 2  score: 0.3711188093405184\n",
      "\n",
      "Block 3  score: 0.375930202720041\n",
      "\n",
      "Block 4  score: 0.37025275853220424\n",
      "\n",
      "Block 5  score: 0.3730754426481909\n",
      "\n",
      "Block 6  score: 0.36476777007954836\n",
      "\n",
      "Block 7  score: 0.3760905824993585\n",
      "\n",
      "Block 8  score: 0.36832820118039516\n",
      "\n",
      "Result score: 0.3697631620096949\n"
     ]
    }
   ],
   "source": [
    "classifier = make_training_model(x_train, y_train, epoch_cnt=8, n_estimators=len(actual_dict), forest_depth=16)\n",
    "print('\\nResult score:', metrics.f1_score(y_test.tolist(), classifier.predict(x_test.tolist()), average='micro'))"
   ]
  },
  {
   "cell_type": "markdown",
   "id": "be151eb2",
   "metadata": {},
   "source": [
    "Значительно уменьшаю кол-во деревьев и сильно увеличевую глубину -> результаты немного лучше"
   ]
  },
  {
   "cell_type": "code",
   "execution_count": 24,
   "id": "009257f7",
   "metadata": {},
   "outputs": [
    {
     "name": "stdout",
     "output_type": "stream",
     "text": [
      "\n",
      "\n",
      " RandomForestClassifier(max_depth=24, n_estimators=10, n_jobs=-1)\n",
      "\n",
      "Block 1  score: 0.39382858609186555\n",
      "\n",
      "Block 2  score: 0.38985116756479343\n",
      "\n",
      "Block 3  score: 0.393988965871183\n",
      "\n",
      "Block 4  score: 0.39033230690274573\n",
      "\n",
      "Block 5  score: 0.39540030792917635\n",
      "\n",
      "Block 6  score: 0.3905889145496536\n",
      "\n",
      "Block 7  score: 0.3933795227097767\n",
      "\n",
      "Block 8  score: 0.39193610469591994\n",
      "\n",
      "Result score: 0.3902233662508871\n"
     ]
    }
   ],
   "source": [
    "classifier = make_training_model(x_train, y_train, epoch_cnt=8, n_estimators=10, forest_depth=24)\n",
    "print('\\nResult score:', metrics.f1_score(y_test.tolist(), classifier.predict(x_test.tolist()), average='micro'))"
   ]
  },
  {
   "cell_type": "markdown",
   "id": "22c8a887",
   "metadata": {},
   "source": [
    "Пытаюсь еще увеличить глубину. Результыты не меняются. Значит дальше будем менять другие два параметра."
   ]
  },
  {
   "cell_type": "code",
   "execution_count": 25,
   "id": "7670511f",
   "metadata": {},
   "outputs": [
    {
     "name": "stdout",
     "output_type": "stream",
     "text": [
      "\n",
      "\n",
      " RandomForestClassifier(max_depth=64, n_estimators=10, n_jobs=-1)\n",
      "\n",
      "Block 1  score: 0.3900436232999743\n",
      "\n",
      "Block 2  score: 0.3878624583012574\n",
      "\n",
      "Block 3  score: 0.3945663330767257\n",
      "\n",
      "Block 4  score: 0.38856812933025403\n",
      "\n",
      "Block 5  score: 0.3927059276366436\n",
      "\n",
      "Block 6  score: 0.38564921734667695\n",
      "\n",
      "Block 7  score: 0.39206440851937385\n",
      "\n",
      "Block 8  score: 0.3885360533743906\n",
      "\n",
      "Result score: 0.3889363340029108\n"
     ]
    }
   ],
   "source": [
    "classifier = make_training_model(x_train, y_train, epoch_cnt=8, n_estimators=10, forest_depth=64)\n",
    "print('\\nResult score:', metrics.f1_score(y_test.tolist(), classifier.predict(x_test.tolist()), average='micro'))"
   ]
  },
  {
   "cell_type": "markdown",
   "id": "6eaad8ae",
   "metadata": {},
   "source": [
    "Снова пробую увеличить кол-во деревьев и кол-во эпох -> результаты лучше еще на первой эпохе. Значит кол-во эпох не сильно повлияло на результат."
   ]
  },
  {
   "cell_type": "code",
   "execution_count": 26,
   "id": "c3bfc261",
   "metadata": {},
   "outputs": [
    {
     "name": "stdout",
     "output_type": "stream",
     "text": [
      "\n",
      "\n",
      " RandomForestClassifier(max_depth=32, n_jobs=-1)\n",
      "\n",
      "Block 1  score: 0.4409429877315372\n",
      "\n",
      "Block 2  score: 0.43990056932082433\n",
      "\n",
      "Block 3  score: 0.44407024296367575\n",
      "\n",
      "Block 4  score: 0.43244326838264774\n",
      "\n",
      "Block 5  score: 0.43974019725763774\n",
      "\n",
      "Block 6  score: 0.44150428995269025\n",
      "\n",
      "Block 7  score: 0.4400609413840109\n",
      "\n",
      "Block 8  score: 0.44238633630021645\n",
      "\n",
      "Block 9  score: 0.43207698476343226\n",
      "\n",
      "Block 10  score: 0.441299117882919\n",
      "\n",
      "Block 11  score: 0.44394546912590216\n",
      "\n",
      "Block 12  score: 0.42782678428227744\n",
      "\n",
      "Block 13  score: 0.44065757818765033\n",
      "\n",
      "Block 14  score: 0.4327185244587009\n",
      "\n",
      "Block 15  score: 0.4312750601443464\n",
      "\n",
      "Block 16  score: 0.4404971932638332\n",
      "\n",
      "Block 17  score: 0.4366479550922213\n",
      "\n",
      "Block 18  score: 0.4352044907778669\n",
      "\n",
      "Block 19  score: 0.43696872493985567\n",
      "\n",
      "Block 20  score: 0.43448275862068964\n",
      "\n",
      "Result score: 0.4358348268520635\n"
     ]
    }
   ],
   "source": [
    "classifier = make_training_model(x_train, y_train, epoch_cnt=20, n_estimators=100, forest_depth=32)\n",
    "print('\\nResult score:', metrics.f1_score(y_test.tolist(), classifier.predict(x_test.tolist()), average='micro'))"
   ]
  },
  {
   "cell_type": "markdown",
   "id": "342aaaa5",
   "metadata": {},
   "source": [
    "Итоговый эксперимент. Пробую еще увеличить кол-во деревьев -> изменений нет -> Значит с данными параметрами добились максимума."
   ]
  },
  {
   "cell_type": "code",
   "execution_count": null,
   "id": "bb48efcd",
   "metadata": {},
   "outputs": [
    {
     "name": "stdout",
     "output_type": "stream",
     "text": [
      "\n",
      "\n",
      " RandomForestClassifier(max_depth=32, n_estimators=150, n_jobs=-1)\n",
      "\n",
      "Block 1  score: 0.44191044393122914\n",
      "\n",
      "Block 2  score: 0.4388632281241981\n",
      "\n",
      "Block 3  score: 0.4409802412111881\n",
      "\n",
      "Block 4  score: 0.4364575314344367\n",
      "\n",
      "Block 5  score: 0.436938670772389\n",
      "\n",
      "Block 6  score: 0.4334103156274057\n",
      "\n",
      "Block 7  score: 0.4404028740056454\n",
      "\n",
      "Block 8  score: 0.43642545547857325\n"
     ]
    }
   ],
   "source": [
    "classifier = make_training_model(x_train, y_train, epoch_cnt=8, n_estimators=150, forest_depth=32)\n",
    "last_score = metrics.f1_score(y_test.tolist(), classifier.predict(x_test.tolist()), average='micro')\n",
    "print('\\nResult score:', last_score)"
   ]
  },
  {
   "cell_type": "code",
   "execution_count": null,
   "id": "1fc9ac07",
   "metadata": {},
   "outputs": [],
   "source": [
    "print(first_score, '->', last_score)"
   ]
  },
  {
   "cell_type": "code",
   "execution_count": null,
   "id": "d8fda330",
   "metadata": {},
   "outputs": [],
   "source": []
  }
 ],
 "metadata": {
  "kernelspec": {
   "display_name": "Python 3 (ipykernel)",
   "language": "python",
   "name": "python3"
  },
  "language_info": {
   "codemirror_mode": {
    "name": "ipython",
    "version": 3
   },
   "file_extension": ".py",
   "mimetype": "text/x-python",
   "name": "python",
   "nbconvert_exporter": "python",
   "pygments_lexer": "ipython3",
   "version": "3.9.5"
  }
 },
 "nbformat": 4,
 "nbformat_minor": 5
}
