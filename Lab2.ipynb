{
 "cells": [
  {
   "cell_type": "code",
   "execution_count": 1,
   "id": "583001f4",
   "metadata": {},
   "outputs": [],
   "source": [
    "import numpy as np\n",
    "import pandas as pd\n",
    "import IPython.display as ipd\n",
    "import matplotlib.pyplot as plt\n",
    "\n",
    "import scipy \n",
    "import scipy.fft\n",
    "\n",
    "import librosa\n",
    "import librosa.display\n",
    "import librosa.filters\n",
    "import librosa.feature\n",
    "\n",
    "import os\n",
    "import sklearn\n",
    "\n",
    "import pickle\n",
    "\n",
    "%matplotlib inline"
   ]
  },
  {
   "cell_type": "markdown",
   "id": "2a6b000a",
   "metadata": {},
   "source": [
    "## Загружаю расчитанные фичи и словарь меток."
   ]
  },
  {
   "cell_type": "code",
   "execution_count": 2,
   "id": "45af9ee2",
   "metadata": {},
   "outputs": [],
   "source": [
    "def pkl_load(file):\n",
    "    return pickle.load(open(file,'rb'))"
   ]
  },
  {
   "cell_type": "code",
   "execution_count": 4,
   "id": "93046fc7",
   "metadata": {},
   "outputs": [],
   "source": [
    "from sklearn.model_selection import train_test_split\n",
    "\n",
    "data = pd.DataFrame(pkl_load('../audioset/Processed/features.pkl'))\n",
    "actual_dict = pkl_load('../audioset/Processed/actual_dict.pkl')"
   ]
  },
  {
   "cell_type": "markdown",
   "id": "3635b8fd",
   "metadata": {},
   "source": [
    "## Разбиваю на тренировачную тестовую выборки."
   ]
  },
  {
   "cell_type": "code",
   "execution_count": 5,
   "id": "2ce7500b",
   "metadata": {},
   "outputs": [
    {
     "data": {
      "text/plain": [
       "(83137,)"
      ]
     },
     "execution_count": 5,
     "metadata": {},
     "output_type": "execute_result"
    }
   ],
   "source": [
    "x_train, x_test, y_train, y_test = train_test_split(data['features'].values, data['label'].values, test_size=0.25)\n",
    "np.asarray(x_test).shape"
   ]
  },
  {
   "cell_type": "markdown",
   "id": "4e20cb82",
   "metadata": {},
   "source": [
    "## Код для обучения Random forest\n",
    "\n",
    "* Создание классификатора с задаными параметрами (кол-во деревьев, глубина деревьев).\n",
    "* Перераспределение данных для использования на эпохах обучения.\n",
    "* Обучение (заполнение модели, определение промежуточного результата)."
   ]
  },
  {
   "cell_type": "code",
   "execution_count": 7,
   "id": "78c65d68",
   "metadata": {},
   "outputs": [],
   "source": [
    "from sklearn import metrics\n",
    "from sklearn.model_selection import KFold\n",
    "from sklearn.ensemble import RandomForestClassifier\n",
    "\n",
    "def make_training_model(x, y, epoch_cnt, n_estimators, forest_depth):\n",
    "    classifier = RandomForestClassifier(n_estimators=n_estimators, max_depth=forest_depth, n_jobs=-1)\n",
    "    \n",
    "    Selector = KFold(n_splits=epoch_cnt, random_state=None, shuffle=False)\n",
    "    \n",
    "    print('\\n\\n', classifier)\n",
    "    \n",
    "    Number = 0\n",
    "    for train_index, test_index in Selector.split(X=x, y=y):   \n",
    "        Number += 1\n",
    "\n",
    "        x_train, x_test = x[train_index], x[test_index]\n",
    "        y_train, y_test = y[train_index], y[test_index]\n",
    "        \n",
    "        classifier.fit(x_train.tolist(), y_train.tolist())\n",
    "        print('\\nBlock', Number, ' score:', metrics.accuracy_score(y_test.tolist(), classifier.predict(x_test.tolist())))\n",
    "        \n",
    "    return classifier"
   ]
  },
  {
   "cell_type": "markdown",
   "id": "24c1369b",
   "metadata": {},
   "source": [
    "Первый эксперимент. Попробовал взять кол-во деревьев равное кол-ву меток. И небольшую глубину деревьев."
   ]
  },
  {
   "cell_type": "code",
   "execution_count": 10,
   "id": "5453c809",
   "metadata": {},
   "outputs": [
    {
     "name": "stdout",
     "output_type": "stream",
     "text": [
      "\n",
      "\n",
      " RandomForestClassifier(max_depth=4, n_estimators=61, n_jobs=-1)\n",
      "\n",
      "Block 1  score: 0.26748139594559917\n",
      "\n",
      "Block 2  score: 0.26379266102129845\n",
      "\n",
      "Block 3  score: 0.2657172183731075\n",
      "\n",
      "Block 4  score: 0.2670964844752374\n",
      "\n",
      "Block 5  score: 0.26305491403643827\n",
      "\n",
      "Block 6  score: 0.263632281241981\n",
      "\n",
      "Block 7  score: 0.2644341801385681\n",
      "\n",
      "Block 8  score: 0.26581344624069797\n",
      "\n",
      "Result score: 0.2669930355918544\n"
     ]
    }
   ],
   "source": [
    "classifier = make_training_model(x_train, y_train, epoch_cnt=8, n_estimators=len(actual_dict), forest_depth=4)\n",
    "print('\\nResult score:', metrics.accuracy_score(y_test.tolist(), classifier.predict(x_test.tolist())))"
   ]
  },
  {
   "cell_type": "markdown",
   "id": "5317a5fc",
   "metadata": {},
   "source": [
    "Увеличиваю глубину деревьев -> результаты улучшаются"
   ]
  },
  {
   "cell_type": "code",
   "execution_count": 11,
   "id": "1fc7f0d5",
   "metadata": {},
   "outputs": [
    {
     "name": "stdout",
     "output_type": "stream",
     "text": [
      "\n",
      "\n",
      " RandomForestClassifier(max_depth=6, n_estimators=61, n_jobs=-1)\n",
      "\n",
      "Block 1  score: 0.2695984090325892\n",
      "\n",
      "Block 2  score: 0.2659096741082884\n",
      "\n",
      "Block 3  score: 0.2675134719014627\n",
      "\n",
      "Block 4  score: 0.26924557351809086\n",
      "\n",
      "Block 5  score: 0.26472286374133946\n",
      "\n",
      "Block 6  score: 0.26539645881447266\n",
      "\n",
      "Block 7  score: 0.2663587374903772\n",
      "\n",
      "Block 8  score: 0.2678983833718245\n",
      "\n",
      "Result score: 0.269579128426573\n"
     ]
    }
   ],
   "source": [
    "classifier = make_training_model(x_train, y_train, epoch_cnt=8, n_estimators=len(actual_dict), forest_depth=6)\n",
    "print('\\nResult score:', metrics.accuracy_score(y_test.tolist(), classifier.predict(x_test.tolist())))"
   ]
  },
  {
   "cell_type": "markdown",
   "id": "76a0d1f8",
   "metadata": {},
   "source": [
    "Немного увеличиваю глубину и значительно кол-во деревьев. -> результаты меняются не сильно."
   ]
  },
  {
   "cell_type": "code",
   "execution_count": 13,
   "id": "85b603dd",
   "metadata": {},
   "outputs": [
    {
     "name": "stdout",
     "output_type": "stream",
     "text": [
      "\n",
      "\n",
      " RandomForestClassifier(max_depth=10, n_estimators=244, n_jobs=-1)\n",
      "\n",
      "Block 1  score: 0.2943610469591994\n",
      "\n",
      "Block 2  score: 0.2945535026943803\n",
      "\n",
      "Block 3  score: 0.2949384141647421\n",
      "\n",
      "Block 4  score: 0.2959648447523736\n",
      "\n",
      "Block 5  score: 0.2907364639466256\n",
      "\n",
      "Block 6  score: 0.29217988196048245\n",
      "\n",
      "Block 7  score: 0.2953874775468309\n",
      "\n",
      "Block 8  score: 0.29484218629715164\n",
      "\n",
      "Result score: 0.2970518541684208\n"
     ]
    }
   ],
   "source": [
    "classifier = make_training_model(x_train, y_train, epoch_cnt=8, n_estimators=len(actual_dict)*4, forest_depth=10)\n",
    "print('\\nResult score:', metrics.accuracy_score(y_test.tolist(), classifier.predict(x_test.tolist())))"
   ]
  },
  {
   "cell_type": "markdown",
   "id": "20ee4e97",
   "metadata": {},
   "source": [
    "Так как увеличение кол-ва деревьев ни к чему не привело. Пробую увеличить глубину -> результаты заметно лучше."
   ]
  },
  {
   "cell_type": "code",
   "execution_count": 15,
   "id": "6c12a16c",
   "metadata": {},
   "outputs": [
    {
     "name": "stdout",
     "output_type": "stream",
     "text": [
      "\n",
      "\n",
      " RandomForestClassifier(max_depth=16, n_estimators=61, n_jobs=-1)\n",
      "\n",
      "Block 1  score: 0.3695150115473441\n",
      "\n",
      "Block 2  score: 0.3727226071336926\n",
      "\n",
      "Block 3  score: 0.3719207082371055\n",
      "\n",
      "Block 4  score: 0.37570567102899666\n",
      "\n",
      "Block 5  score: 0.3706376700025661\n",
      "\n",
      "Block 6  score: 0.3714395688991532\n",
      "\n",
      "Block 7  score: 0.37570567102899666\n",
      "\n",
      "Block 8  score: 0.3743264049268668\n",
      "\n",
      "Result score: 0.3750676594055595\n"
     ]
    }
   ],
   "source": [
    "classifier = make_training_model(x_train, y_train, epoch_cnt=8, n_estimators=len(actual_dict), forest_depth=16)\n",
    "print('\\nResult score:', metrics.accuracy_score(y_test.tolist(), classifier.predict(x_test.tolist())))"
   ]
  },
  {
   "cell_type": "markdown",
   "id": "be151eb2",
   "metadata": {},
   "source": [
    "Значительно уменьшаю кол-во деревьев и сильно увеличевую глубину -> результаты немного лучше"
   ]
  },
  {
   "cell_type": "code",
   "execution_count": 17,
   "id": "009257f7",
   "metadata": {},
   "outputs": [
    {
     "name": "stdout",
     "output_type": "stream",
     "text": [
      "\n",
      "\n",
      " RandomForestClassifier(max_depth=24, n_estimators=10, n_jobs=-1)\n",
      "\n",
      "Block 1  score: 0.3861303566846292\n",
      "\n",
      "Block 2  score: 0.3943738773415448\n",
      "\n",
      "Block 3  score: 0.3941172696946369\n",
      "\n",
      "Block 4  score: 0.39463048498845266\n",
      "\n",
      "Block 5  score: 0.38965871182961254\n",
      "\n",
      "Block 6  score: 0.3922247882986913\n",
      "\n",
      "Block 7  score: 0.39273800359250705\n",
      "\n",
      "Block 8  score: 0.3923851680780087\n",
      "\n",
      "Result score: 0.39170285191912146\n"
     ]
    }
   ],
   "source": [
    "classifier = make_training_model(x_train, y_train, epoch_cnt=8, n_estimators=10, forest_depth=24)\n",
    "print('\\nResult score:', metrics.accuracy_score(y_test.tolist(), classifier.predict(x_test.tolist())))"
   ]
  },
  {
   "cell_type": "markdown",
   "id": "22c8a887",
   "metadata": {},
   "source": [
    "Пытаюсь еще увеличить глубину. Результыты не меняются. Значит дальше будем менять другие два параметра."
   ]
  },
  {
   "cell_type": "code",
   "execution_count": 18,
   "id": "7670511f",
   "metadata": {},
   "outputs": [
    {
     "name": "stdout",
     "output_type": "stream",
     "text": [
      "\n",
      "\n",
      " RandomForestClassifier(max_depth=64, n_estimators=10, n_jobs=-1)\n",
      "\n",
      "Block 1  score: 0.3894341801385681\n",
      "\n",
      "Block 2  score: 0.39216063638696436\n",
      "\n",
      "Block 3  score: 0.3894341801385681\n",
      "\n",
      "Block 4  score: 0.3954003079291763\n",
      "\n",
      "Block 5  score: 0.39039645881447266\n",
      "\n",
      "Block 6  score: 0.38917757249166024\n",
      "\n",
      "Block 7  score: 0.39248139594559917\n",
      "\n",
      "Block 8  score: 0.3884077495509366\n",
      "\n",
      "Result score: 0.38933326918219324\n"
     ]
    }
   ],
   "source": [
    "classifier = make_training_model(x_train, y_train, epoch_cnt=8, n_estimators=10, forest_depth=64)\n",
    "print('\\nResult score:', metrics.accuracy_score(y_test.tolist(), classifier.predict(x_test.tolist())))"
   ]
  },
  {
   "cell_type": "markdown",
   "id": "6eaad8ae",
   "metadata": {},
   "source": [
    "Снова пробую увеличить кол-во деревьев и кол-во эпох -> результаты лучше еще на первой эпохе. Значит кол-во эпох не сильно повлияло на результат."
   ]
  },
  {
   "cell_type": "code",
   "execution_count": 20,
   "id": "c3bfc261",
   "metadata": {},
   "outputs": [
    {
     "name": "stdout",
     "output_type": "stream",
     "text": [
      "\n",
      "\n",
      " RandomForestClassifier(max_depth=32, n_jobs=-1)\n",
      "\n",
      "Block 1  score: 0.42875471092935613\n",
      "\n",
      "Block 2  score: 0.43693368615187234\n",
      "\n",
      "Block 3  score: 0.4421457782054366\n",
      "\n",
      "Block 4  score: 0.44342875471092935\n",
      "\n",
      "Block 5  score: 0.4351695934568198\n",
      "\n",
      "Block 6  score: 0.43436773314088684\n",
      "\n",
      "Block 7  score: 0.4451126613743886\n",
      "\n",
      "Block 8  score: 0.44142410392109693\n",
      "\n",
      "Block 9  score: 0.43416198877305534\n",
      "\n",
      "Block 10  score: 0.43360064153969524\n",
      "\n",
      "Block 11  score: 0.43544506816359263\n",
      "\n",
      "Block 12  score: 0.44121892542101043\n",
      "\n",
      "Block 13  score: 0.4299919807538091\n",
      "\n",
      "Block 14  score: 0.44402566158781076\n",
      "\n",
      "Block 15  score: 0.4347233360064154\n",
      "\n",
      "Block 16  score: 0.44274258219727347\n",
      "\n",
      "Block 17  score: 0.43905372894947875\n",
      "\n",
      "Block 18  score: 0.4408981555733761\n",
      "\n",
      "Block 19  score: 0.4372093023255814\n",
      "\n",
      "Block 20  score: 0.44274258219727347\n",
      "\n",
      "Result score: 0.4390584216413871\n"
     ]
    }
   ],
   "source": [
    "classifier = make_training_model(x_train, y_train, epoch_cnt=20, n_estimators=100, forest_depth=32)\n",
    "print('\\nResult score:', metrics.accuracy_score(y_test.tolist(), classifier.predict(x_test.tolist())))"
   ]
  },
  {
   "cell_type": "markdown",
   "id": "342aaaa5",
   "metadata": {},
   "source": [
    "Итоговый эксперимент. Пробую еще увеличить кол-во деревьев -> изменений нет -> Значит с данными параметрами добились максимума."
   ]
  },
  {
   "cell_type": "code",
   "execution_count": 21,
   "id": "bb48efcd",
   "metadata": {},
   "outputs": [
    {
     "name": "stdout",
     "output_type": "stream",
     "text": [
      "\n",
      "\n",
      " RandomForestClassifier(max_depth=32, n_estimators=150, n_jobs=-1)\n",
      "\n",
      "Block 1  score: 0.4347895817295355\n",
      "\n",
      "Block 2  score: 0.4396651270207852\n",
      "\n",
      "Block 3  score: 0.43918398768283295\n",
      "\n",
      "Block 4  score: 0.4374198101103413\n",
      "\n",
      "Block 5  score: 0.4384462406979728\n",
      "\n",
      "Block 6  score: 0.43684244290479857\n",
      "\n",
      "Block 7  score: 0.43687451886066203\n",
      "\n",
      "Block 8  score: 0.4382858609186554\n",
      "\n",
      "Result score: 0.43737445421412846\n"
     ]
    }
   ],
   "source": [
    "classifier = make_training_model(x_train, y_train, epoch_cnt=8, n_estimators=150, forest_depth=32)\n",
    "print('\\nResult score:', metrics.accuracy_score(y_test.tolist(), classifier.predict(x_test.tolist())))"
   ]
  },
  {
   "cell_type": "code",
   "execution_count": null,
   "id": "1fc9ac07",
   "metadata": {},
   "outputs": [],
   "source": []
  }
 ],
 "metadata": {
  "kernelspec": {
   "display_name": "Python 3 (ipykernel)",
   "language": "python",
   "name": "python3"
  },
  "language_info": {
   "codemirror_mode": {
    "name": "ipython",
    "version": 3
   },
   "file_extension": ".py",
   "mimetype": "text/x-python",
   "name": "python",
   "nbconvert_exporter": "python",
   "pygments_lexer": "ipython3",
   "version": "3.9.5"
  }
 },
 "nbformat": 4,
 "nbformat_minor": 5
}
